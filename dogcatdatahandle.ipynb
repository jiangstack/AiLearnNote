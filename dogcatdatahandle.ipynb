{
 "cells": [
  {
   "attachments": {},
   "cell_type": "markdown",
   "metadata": {},
   "source": [
    "猫狗数据集包含25000张 猫12500 狗12500\n",
    "\n",
    "本次训练集2000 （各1000）\n",
    "验证集 1000 各500\n",
    "测试集 1000 各500\n"
   ]
  },
  {
   "cell_type": "code",
   "execution_count": 3,
   "metadata": {},
   "outputs": [
    {
     "name": "stdout",
     "output_type": "stream",
     "text": [
      "total training cat images: 1000\n",
      "total training dog images: 1000\n",
      "total validation cat images: 500\n",
      "total validation dog images: 500\n",
      "total test cat images: 500\n",
      "total test dog images: 500\n"
     ]
    }
   ],
   "source": [
    "import os, shutil\n",
    "\n",
    "# 原始数据集解压目录的路径\n",
    "original_dataset_dir = 'D:\\\\TrainData\\\\kaggle-dog-cat\\\\train\\\\train'\n",
    "base_dir = 'D:\\\\TrainData\\\\dog_cat_small'\n",
    "\n",
    "if not os.path.exists(base_dir): \n",
    "    os.mkdir(base_dir)\n",
    "\n",
    "    train_dir = os.path.join(base_dir, 'train')\n",
    "    os.mkdir(train_dir)\n",
    "    validation_dir = os.path.join(base_dir, 'validation')\n",
    "    os.mkdir(validation_dir)\n",
    "    test_dir = os.path.join(base_dir, 'test')\n",
    "    os.mkdir(test_dir)\n",
    "\n",
    "    train_cats_dir = os.path.join(train_dir, 'cats')\n",
    "    os.mkdir(train_cats_dir)\n",
    "    train_dogs_dir = os.path.join(train_dir, 'dogs')\n",
    "    os.mkdir(train_dogs_dir) \n",
    "\n",
    "    validation_cats_dir = os.path.join(validation_dir, 'cats')\n",
    "    os.mkdir(validation_cats_dir)\n",
    "    validation_dogs_dir = os.path.join(validation_dir, 'dogs')\n",
    "    os.mkdir(validation_dogs_dir)\n",
    "\n",
    "    test_cats_dir = os.path.join(test_dir, 'cats')\n",
    "    os.mkdir(test_cats_dir)\n",
    "    test_dogs_dir = os.path.join(test_dir, 'dogs')\n",
    "    os.mkdir(test_dogs_dir)\n",
    "\n",
    "    fnames = ['cat.{}.jpg'.format(i) for i in range(1000)]\n",
    "    for fname in fnames:\n",
    "        src = os.path.join(original_dataset_dir, fname)\n",
    "        dst = os.path.join(train_cats_dir, fname)\n",
    "        shutil.copyfile(src, dst)\n",
    "    fnames = ['cat.{}.jpg'.format(i) for i in range(1000, 1500)]\n",
    "    for fname in fnames:\n",
    "        src = os.path.join(original_dataset_dir, fname)\n",
    "        dst = os.path.join(validation_cats_dir, fname)\n",
    "        shutil.copyfile(src, dst) \n",
    "    fnames = ['cat.{}.jpg'.format(i) for i in range(1500, 2000)] \n",
    "    for fname in fnames:\n",
    "        src = os.path.join(original_dataset_dir, fname)\n",
    "        dst = os.path.join(test_cats_dir, fname)\n",
    "        shutil.copyfile(src, dst)\n",
    "\n",
    "    fnames = ['dog.{}.jpg'.format(i) for i in range(1000)] \n",
    "    for fname in fnames:\n",
    "        src = os.path.join(original_dataset_dir, fname)\n",
    "        dst = os.path.join(train_dogs_dir, fname)\n",
    "        shutil.copyfile(src, dst)\n",
    "    fnames = ['dog.{}.jpg'.format(i) for i in range(1000, 1500)] \n",
    "    for fname in fnames:\n",
    "        src = os.path.join(original_dataset_dir, fname)\n",
    "        dst = os.path.join(validation_dogs_dir, fname)\n",
    "        shutil.copyfile(src, dst)\n",
    "    fnames = ['dog.{}.jpg'.format(i) for i in range(1500, 2000)] \n",
    "    for fname in fnames:\n",
    "        src = os.path.join(original_dataset_dir, fname)\n",
    "        dst = os.path.join(test_dogs_dir, fname)\n",
    "        shutil.copyfile(src, dst)                               \n",
    "\n",
    "    print('total training cat images:', len(os.listdir(train_cats_dir)))\n",
    "    print('total training dog images:', len(os.listdir(train_dogs_dir)))\n",
    "    print('total validation cat images:', len(os.listdir(validation_cats_dir)))\n",
    "    print('total validation dog images:', len(os.listdir(validation_dogs_dir)))\n",
    "    print('total test cat images:', len(os.listdir(test_cats_dir)))\n",
    "    print('total test dog images:', len(os.listdir(test_dogs_dir)))"
   ]
  }
 ],
 "metadata": {
  "kernelspec": {
   "display_name": "base",
   "language": "python",
   "name": "python3"
  },
  "language_info": {
   "codemirror_mode": {
    "name": "ipython",
    "version": 3
   },
   "file_extension": ".py",
   "mimetype": "text/x-python",
   "name": "python",
   "nbconvert_exporter": "python",
   "pygments_lexer": "ipython3",
   "version": "3.9.13"
  },
  "orig_nbformat": 4
 },
 "nbformat": 4,
 "nbformat_minor": 2
}
